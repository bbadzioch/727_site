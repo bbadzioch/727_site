{
 "cells": [
  {
   "cell_type": "markdown",
   "id": "79805625",
   "metadata": {},
   "source": [
    "# Matrix powers"
   ]
  },
  {
   "cell_type": "markdown",
   "id": "c1333002",
   "metadata": {},
   "source": [
    "The goal of this notebook is to show how to compute products of matrices and powers of matrices using Python. First, we import the `numpy` library, which provides tools for such computations:"
   ]
  },
  {
   "cell_type": "code",
   "execution_count": 1,
   "id": "7315b0ab",
   "metadata": {},
   "outputs": [],
   "source": [
    "import numpy as np"
   ]
  },
  {
   "cell_type": "markdown",
   "id": "adef1cb6",
   "metadata": {},
   "source": [
    "Next we define a couple matrices using `numpy`:"
   ]
  },
  {
   "cell_type": "code",
   "execution_count": 18,
   "id": "d85ab04a",
   "metadata": {},
   "outputs": [],
   "source": [
    "A = np.array([[1, 2, 3],\n",
    "              [4, 3, 6],\n",
    "              [7, 8, 9]])\n",
    "\n",
    "B = np.array([[0, 1, 3],\n",
    "              [2, 5, 2],\n",
    "              [0, 0, 1]])"
   ]
  },
  {
   "cell_type": "code",
   "execution_count": 3,
   "id": "02ba626f",
   "metadata": {},
   "outputs": [
    {
     "name": "stdout",
     "output_type": "stream",
     "text": [
      "[[1 2 3]\n",
      " [4 3 6]\n",
      " [7 8 9]]\n"
     ]
    }
   ],
   "source": [
    "print(A)"
   ]
  },
  {
   "cell_type": "code",
   "execution_count": 4,
   "id": "7c12012d",
   "metadata": {},
   "outputs": [
    {
     "name": "stdout",
     "output_type": "stream",
     "text": [
      "[[0 1 3]\n",
      " [2 5 2]\n",
      " [0 0 1]]\n"
     ]
    }
   ],
   "source": [
    "print(B)"
   ]
  },
  {
   "cell_type": "markdown",
   "id": "6152c0bf",
   "metadata": {},
   "source": [
    "## Matrix multiplication"
   ]
  },
  {
   "cell_type": "markdown",
   "id": "b4351e68",
   "metadata": {},
   "source": [
    "The operator `@` performs matrix multiplication:"
   ]
  },
  {
   "cell_type": "code",
   "execution_count": 5,
   "id": "6b64b57a",
   "metadata": {},
   "outputs": [
    {
     "data": {
      "text/plain": [
       "array([[ 4, 11, 10],\n",
       "       [ 6, 19, 24],\n",
       "       [16, 47, 46]])"
      ]
     },
     "execution_count": 5,
     "metadata": {},
     "output_type": "execute_result"
    }
   ],
   "source": [
    "A@B"
   ]
  },
  {
   "cell_type": "markdown",
   "id": "9e5e05ae",
   "metadata": {},
   "source": [
    "## Matrix powers"
   ]
  },
  {
   "cell_type": "markdown",
   "id": "cfc1cbfd",
   "metadata": {},
   "source": [
    "To take a power of a matrix we can multiply it by itself some number of times:"
   ]
  },
  {
   "cell_type": "code",
   "execution_count": 6,
   "id": "970bf529",
   "metadata": {},
   "outputs": [
    {
     "data": {
      "text/plain": [
       "array([[ 7040,  7660, 10248],\n",
       "       [14078, 15321, 20496],\n",
       "       [24740, 26914, 36024]])"
      ]
     },
     "execution_count": 6,
     "metadata": {},
     "output_type": "execute_result"
    }
   ],
   "source": [
    "# compute the 4th power of A\n",
    "A@A@A@A"
   ]
  },
  {
   "cell_type": "markdown",
   "id": "2b62937c",
   "metadata": {},
   "source": [
    "However, it is simpler and faster to use the `np.linalg.matrix_power` function that it designed to compute a given power of a matrix:"
   ]
  },
  {
   "cell_type": "code",
   "execution_count": 7,
   "id": "29db39cf",
   "metadata": {},
   "outputs": [
    {
     "data": {
      "text/plain": [
       "array([[ 7040,  7660, 10248],\n",
       "       [14078, 15321, 20496],\n",
       "       [24740, 26914, 36024]])"
      ]
     },
     "execution_count": 7,
     "metadata": {},
     "output_type": "execute_result"
    }
   ],
   "source": [
    "# compute the 4th power of A\n",
    "np.linalg.matrix_power(A, 4)"
   ]
  },
  {
   "cell_type": "markdown",
   "id": "ee820c65",
   "metadata": {},
   "source": [
    "## Sum of entries of a matrix"
   ]
  },
  {
   "cell_type": "markdown",
   "id": "e1a71b9a",
   "metadata": {},
   "source": [
    "Here is one more numpy computation that may come handy in Homework 4. If `A` is a numpy matrix then \n",
    "`A.sum()` computes the sum of all entries of `A`."
   ]
  },
  {
   "cell_type": "code",
   "execution_count": 19,
   "id": "18517617",
   "metadata": {},
   "outputs": [
    {
     "name": "stdout",
     "output_type": "stream",
     "text": [
      "[[1 2 3]\n",
      " [4 3 6]\n",
      " [7 8 9]]\n"
     ]
    }
   ],
   "source": [
    "print(A)"
   ]
  },
  {
   "cell_type": "code",
   "execution_count": 20,
   "id": "9a0771a5",
   "metadata": {},
   "outputs": [
    {
     "data": {
      "text/plain": [
       "43"
      ]
     },
     "execution_count": 20,
     "metadata": {},
     "output_type": "execute_result"
    }
   ],
   "source": [
    "A.sum()"
   ]
  }
 ],
 "metadata": {
  "kernelspec": {
   "display_name": "Python 3 (ipykernel)",
   "language": "python",
   "name": "python3"
  },
  "language_info": {
   "codemirror_mode": {
    "name": "ipython",
    "version": 3
   },
   "file_extension": ".py",
   "mimetype": "text/x-python",
   "name": "python",
   "nbconvert_exporter": "python",
   "pygments_lexer": "ipython3",
   "version": "3.9.13"
  }
 },
 "nbformat": 4,
 "nbformat_minor": 5
}
