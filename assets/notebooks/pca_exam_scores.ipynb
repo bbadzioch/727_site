{
 "cells": [
  {
   "cell_type": "markdown",
   "id": "459e62af",
   "metadata": {},
   "source": [
    "# PCA and exam scores"
   ]
  },
  {
   "cell_type": "markdown",
   "id": "4c293038-a6b3-4ea2-acdd-0787c7f9685e",
   "metadata": {},
   "source": [
    "The goal of this notebook is to show how the Principal Component Analysis (PCA) can be applied to a dataset with exam scores. "
   ]
  },
  {
   "cell_type": "code",
   "execution_count": 1,
   "id": "13a7b1ee",
   "metadata": {},
   "outputs": [],
   "source": [
    "%matplotlib inline\n",
    "\n",
    "import pandas as pd\n",
    "import numpy as np\n",
    "import matplotlib.pyplot as plt\n",
    "import seaborn as sns\n",
    "\n",
    "sns.set_theme()"
   ]
  },
  {
   "cell_type": "markdown",
   "id": "a956cfe1",
   "metadata": {},
   "source": [
    "We will be working with a file `exam_scores.csv` that contains scores obtained by students during two midterm exams in a college course. Each exam was graded on the 0-100 points scale."
   ]
  },
  {
   "cell_type": "code",
   "execution_count": 2,
   "id": "a11dd4b7",
   "metadata": {
    "scrolled": false
   },
   "outputs": [
    {
     "data": {
      "text/html": [
       "<div>\n",
       "<style scoped>\n",
       "    .dataframe tbody tr th:only-of-type {\n",
       "        vertical-align: middle;\n",
       "    }\n",
       "\n",
       "    .dataframe tbody tr th {\n",
       "        vertical-align: top;\n",
       "    }\n",
       "\n",
       "    .dataframe thead th {\n",
       "        text-align: right;\n",
       "    }\n",
       "</style>\n",
       "<table border=\"1\" class=\"dataframe\">\n",
       "  <thead>\n",
       "    <tr style=\"text-align: right;\">\n",
       "      <th></th>\n",
       "      <th>ex1</th>\n",
       "      <th>ex2</th>\n",
       "    </tr>\n",
       "  </thead>\n",
       "  <tbody>\n",
       "    <tr>\n",
       "      <th>0</th>\n",
       "      <td>72</td>\n",
       "      <td>93</td>\n",
       "    </tr>\n",
       "    <tr>\n",
       "      <th>1</th>\n",
       "      <td>58</td>\n",
       "      <td>78</td>\n",
       "    </tr>\n",
       "    <tr>\n",
       "      <th>2</th>\n",
       "      <td>55</td>\n",
       "      <td>92</td>\n",
       "    </tr>\n",
       "    <tr>\n",
       "      <th>3</th>\n",
       "      <td>42</td>\n",
       "      <td>31</td>\n",
       "    </tr>\n",
       "    <tr>\n",
       "      <th>4</th>\n",
       "      <td>90</td>\n",
       "      <td>91</td>\n",
       "    </tr>\n",
       "    <tr>\n",
       "      <th>...</th>\n",
       "      <td>...</td>\n",
       "      <td>...</td>\n",
       "    </tr>\n",
       "    <tr>\n",
       "      <th>143</th>\n",
       "      <td>89</td>\n",
       "      <td>97</td>\n",
       "    </tr>\n",
       "    <tr>\n",
       "      <th>144</th>\n",
       "      <td>71</td>\n",
       "      <td>82</td>\n",
       "    </tr>\n",
       "    <tr>\n",
       "      <th>145</th>\n",
       "      <td>73</td>\n",
       "      <td>60</td>\n",
       "    </tr>\n",
       "    <tr>\n",
       "      <th>146</th>\n",
       "      <td>88</td>\n",
       "      <td>95</td>\n",
       "    </tr>\n",
       "    <tr>\n",
       "      <th>147</th>\n",
       "      <td>87</td>\n",
       "      <td>77</td>\n",
       "    </tr>\n",
       "  </tbody>\n",
       "</table>\n",
       "<p>148 rows × 2 columns</p>\n",
       "</div>"
      ],
      "text/plain": [
       "     ex1  ex2\n",
       "0     72   93\n",
       "1     58   78\n",
       "2     55   92\n",
       "3     42   31\n",
       "4     90   91\n",
       "..   ...  ...\n",
       "143   89   97\n",
       "144   71   82\n",
       "145   73   60\n",
       "146   88   95\n",
       "147   87   77\n",
       "\n",
       "[148 rows x 2 columns]"
      ]
     },
     "execution_count": 2,
     "metadata": {},
     "output_type": "execute_result"
    }
   ],
   "source": [
    "scores = pd.read_csv(\"http://mth461.ubmath.info/assets/notebooks/exam_scores.csv\")\n",
    "scores"
   ]
  },
  {
   "cell_type": "markdown",
   "id": "26fe290e",
   "metadata": {},
   "source": [
    "As a preparation, we convert the data into a matrix with two columns, one for each exam. We also compute the mean of each column:"
   ]
  },
  {
   "cell_type": "code",
   "execution_count": 3,
   "id": "93d67435",
   "metadata": {},
   "outputs": [
    {
     "name": "stdout",
     "output_type": "stream",
     "text": [
      "[[72 93]\n",
      " [58 78]\n",
      " [55 92]\n",
      " [42 31]\n",
      " [90 91]\n",
      " [55 84]\n",
      " [58 91]\n",
      " [50 77]\n",
      " [22 27]\n",
      " [65 61]]\n",
      "\n",
      "\n",
      "means:\n",
      "[62.86486486 66.98648649]\n"
     ]
    }
   ],
   "source": [
    "scores_matrix = scores.values\n",
    "\n",
    "# print the first few rows of the matrix\n",
    "print(scores_matrix[:10])\n",
    "\n",
    "#compute and print means\n",
    "means = scores_matrix.mean(axis=0)\n",
    "print(f\"\\n\\nmeans:\\n{means}\")"
   ]
  },
  {
   "cell_type": "markdown",
   "id": "c22422a8",
   "metadata": {},
   "source": [
    "The mean of the first exam was about 63 points, and it was about 67 points for the second exam. \n",
    "\n",
    "Next, we demean the exams data:"
   ]
  },
  {
   "cell_type": "code",
   "execution_count": 4,
   "id": "226824e3",
   "metadata": {},
   "outputs": [],
   "source": [
    "demeaned = scores_matrix  - means"
   ]
  },
  {
   "cell_type": "markdown",
   "id": "cca02efa",
   "metadata": {},
   "source": [
    "Here are the first few rows of the demeaned matrix: "
   ]
  },
  {
   "cell_type": "code",
   "execution_count": 5,
   "id": "ff0e9064",
   "metadata": {},
   "outputs": [
    {
     "name": "stdout",
     "output_type": "stream",
     "text": [
      "[[  9.14  26.01]\n",
      " [ -4.86  11.01]\n",
      " [ -7.86  25.01]\n",
      " [-20.86 -35.99]\n",
      " [ 27.14  24.01]\n",
      " [ -7.86  17.01]\n",
      " [ -4.86  24.01]\n",
      " [-12.86  10.01]\n",
      " [-40.86 -39.99]\n",
      " [  2.14  -5.99]]\n"
     ]
    }
   ],
   "source": [
    "with np.printoptions(precision=2):\n",
    "    print(demeaned[:10])"
   ]
  },
  {
   "cell_type": "markdown",
   "id": "5ea14332",
   "metadata": {},
   "source": [
    "Next, we compute the covariance matrix of the exams data: "
   ]
  },
  {
   "cell_type": "code",
   "execution_count": 6,
   "id": "1c781287",
   "metadata": {},
   "outputs": [
    {
     "name": "stdout",
     "output_type": "stream",
     "text": [
      "[[411.47 270.3 ]\n",
      " [270.3  524.99]]\n"
     ]
    }
   ],
   "source": [
    "N = demeaned.shape[0]\n",
    "\n",
    "CA =  (1/N) * demeaned.T @ demeaned \n",
    "\n",
    "with np.printoptions(precision=2):\n",
    "    print(CA)"
   ]
  },
  {
   "cell_type": "markdown",
   "id": "e6d8b0da",
   "metadata": {},
   "source": [
    "The scores from the two exams is positive, 270.3 which indicates that students who had higher scores on one of the exams also tended to score higher on the other exam. We can verify it by looking at the plot of the data. Each point of this plot represents one student, and the coordinates of the point give the demeaned scores on the two exams: "
   ]
  },
  {
   "cell_type": "code",
   "execution_count": 7,
   "id": "56ee4fee",
   "metadata": {},
   "outputs": [
    {
     "data": {
      "image/png": "[encoded data removed]",
      "text/plain": [
       "<Figure size 640x480 with 1 Axes>"
      ]
     },
     "metadata": {},
     "output_type": "display_data"
    }
   ],
   "source": [
    "ax = plt.subplot(111)\n",
    "ax.axis(\"equal\")\n",
    "ax.plot(demeaned[:, 0], demeaned[:, 1], 'b.')\n",
    "ax.set_xlabel(\"Exam 1\")\n",
    "ax.set_ylabel(\"Exam 2\");"
   ]
  },
  {
   "cell_type": "markdown",
   "id": "154e56a7",
   "metadata": {},
   "source": [
    "The sum of entries on the diagonal of the covariance matrix gives the total variance of the exams data: "
   ]
  },
  {
   "cell_type": "code",
   "execution_count": 8,
   "id": "cce607bf",
   "metadata": {},
   "outputs": [
    {
     "name": "stdout",
     "output_type": "stream",
     "text": [
      "936.4545288531774\n"
     ]
    }
   ],
   "source": [
    "tot_variance = np.diag(CA).sum()\n",
    "print(tot_variance)"
   ]
  },
  {
   "cell_type": "markdown",
   "id": "de30d614",
   "metadata": {},
   "source": [
    "Next, we compute eigenvalues and eigenvectors of the covariance matrix. We also order the eigenvalues from the largest to the smallest and we put the eigenvectors in the same order: "
   ]
  },
  {
   "cell_type": "code",
   "execution_count": 9,
   "id": "7dac47ef",
   "metadata": {},
   "outputs": [],
   "source": [
    "vals, vects = np.linalg.eig(CA)\n",
    "order = np.argsort(vals)[::-1]\n",
    "vals = vals[order]\n",
    "vects = vects[:, order]"
   ]
  },
  {
   "cell_type": "markdown",
   "id": "48eac111",
   "metadata": {},
   "source": [
    "Eigenvalues:"
   ]
  },
  {
   "cell_type": "code",
   "execution_count": 10,
   "id": "c5d90ab5",
   "metadata": {},
   "outputs": [
    {
     "name": "stdout",
     "output_type": "stream",
     "text": [
      "[744.42444575 192.03008311]\n"
     ]
    }
   ],
   "source": [
    "print(vals)"
   ]
  },
  {
   "cell_type": "markdown",
   "id": "922d6988",
   "metadata": {},
   "source": [
    "A matrix with eigenvectors as columns:"
   ]
  },
  {
   "cell_type": "code",
   "execution_count": 11,
   "id": "540e9454",
   "metadata": {},
   "outputs": [
    {
     "name": "stdout",
     "output_type": "stream",
     "text": [
      "[[-0.63027697 -0.77637036]\n",
      " [-0.77637036  0.63027697]]\n"
     ]
    }
   ],
   "source": [
    "print(vects)"
   ]
  },
  {
   "cell_type": "markdown",
   "id": "e10c58c4",
   "metadata": {},
   "source": [
    "The first eigenvector, corresponding to the largest eigenvalue, is the first principal axis of the exams data. The second eigenvector is the second principal axis."
   ]
  },
  {
   "cell_type": "markdown",
   "id": "0ded5974",
   "metadata": {},
   "source": [
    "By dividing the largest eigenvalue by the total variance of the data, we get the fraction of the variance which is captured by the first principal component of the data: "
   ]
  },
  {
   "cell_type": "code",
   "execution_count": 12,
   "id": "e0dcbc42",
   "metadata": {},
   "outputs": [
    {
     "data": {
      "text/plain": [
       "0.79493923389622"
      ]
     },
     "execution_count": 12,
     "metadata": {},
     "output_type": "execute_result"
    }
   ],
   "source": [
    "vals[0]/tot_variance"
   ]
  },
  {
   "cell_type": "markdown",
   "id": "1f872913",
   "metadata": {},
   "source": [
    "Below we plot the exams data: each point corresponds to demeaned exam scores for a single student. The red line \n",
    "gives the direction of the first principal axis, and the green line direction of the second principal axis."
   ]
  },
  {
   "cell_type": "code",
   "execution_count": 13,
   "id": "b9a35cb4",
   "metadata": {},
   "outputs": [
    {
     "data": {
      "text/plain": [
       "Text(0, 0.5, 'Exam 2')"
      ]
     },
     "execution_count": 13,
     "metadata": {},
     "output_type": "execute_result"
    },
    {
     "data": {
      "image/png": "[encoded data removed]",
      "text/plain": [
       "<Figure size 640x480 with 1 Axes>"
      ]
     },
     "metadata": {},
     "output_type": "display_data"
    }
   ],
   "source": [
    "ax = plt.subplot(111)\n",
    "ax.axis(\"equal\")\n",
    "ax.plot(demeaned[:, 0], demeaned[:, 1], 'b.')\n",
    "x = np.array([[80], [-60]])\n",
    "pca1 = vects[:, 0]*x\n",
    "x = np.array([[40], [-40]])\n",
    "pca2 = vects[:, 1]*x\n",
    "\n",
    "ax.plot(pca1[:, 0], pca1[:, 1], 'r-', lw=4, alpha=0.7)\n",
    "ax.plot(pca2[:, 0], pca2[:, 1], 'g-', lw=4, alpha=0.7)\n",
    "ax.set_xlabel(\"Exam 1\")\n",
    "ax.set_ylabel(\"Exam 2\")"
   ]
  }
 ],
 "metadata": {
  "kernelspec": {
   "display_name": "Python 3 (ipykernel)",
   "language": "python",
   "name": "python3"
  },
  "language_info": {
   "codemirror_mode": {
    "name": "ipython",
    "version": 3
   },
   "file_extension": ".py",
   "mimetype": "text/x-python",
   "name": "python",
   "nbconvert_exporter": "python",
   "pygments_lexer": "ipython3",
   "version": "3.9.13"
  },
  "vscode": {
   "interpreter": {
    "hash": "78c8e1b80b1031a1e136770481d214899efde752997b0b94966a80ddc7ada738"
   }
  }
 },
 "nbformat": 4,
 "nbformat_minor": 5
}
