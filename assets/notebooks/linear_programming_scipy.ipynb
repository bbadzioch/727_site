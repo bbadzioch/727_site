{
 "cells": [
  {
   "cell_type": "markdown",
   "id": "4d96ffb4",
   "metadata": {},
   "source": [
    "# Linear programming with `scipy.optimize`"
   ]
  },
  {
   "cell_type": "markdown",
   "id": "7dea6751",
   "metadata": {},
   "source": [
    "`scipy.optimize` library provides a function `linprog` that solves linear programming problems.  \n",
    "\n",
    "Here is link to  the documentation of this function: [https://docs.scipy.org/doc/scipy/reference/generated/scipy.optimize.linprog.html](https://docs.scipy.org/doc/scipy/reference/generated/scipy.optimize.linprog.html)"
   ]
  },
  {
   "cell_type": "markdown",
   "id": "57913dfb",
   "metadata": {},
   "source": [
    "Importing `linprog` function:"
   ]
  },
  {
   "cell_type": "code",
   "execution_count": 1,
   "id": "13a7b1ee",
   "metadata": {},
   "outputs": [],
   "source": [
    "from scipy.optimize import linprog"
   ]
  },
  {
   "cell_type": "markdown",
   "id": "ffe63364",
   "metadata": {},
   "source": [
    "## Example 1"
   ]
  },
  {
   "cell_type": "markdown",
   "id": "2db7d14b",
   "metadata": {},
   "source": [
    "We want to maximize \n",
    "\n",
    "$$f(x_1, x_2) = 200 x_1 + 100 x_2$$\n",
    "\n",
    "Subject to:\n",
    "\n",
    "\\begin{align}\n",
    "x_1 + x_2 & \\leq 100\\\\\n",
    "100 x_1 + 300 x_2 & \\leq 27000\\\\\n",
    "4 x_1 + x_2 & \\leq 280 \\\\\n",
    "x_1 & \\geq 0\\\\\n",
    "x_2 & \\geq 0\n",
    "\\end{align}\n",
    "\n",
    "\n",
    "`scipy.optimize.linprog` finds a minimum, so we replace the objective function by \n",
    "\n",
    "$$g(x_1, x_2) = -200 x_1 - 100 x_2$$"
   ]
  },
  {
   "cell_type": "markdown",
   "id": "62d91cee",
   "metadata": {
    "scrolled": false
   },
   "source": [
    "In the matrix form:\n",
    "\n",
    "$$g(x_1, x_2) = \n",
    "\\begin{bmatrix}\n",
    "-200 & -100 \\\\\n",
    "\\end{bmatrix}\n",
    "\\cdot\n",
    "\\begin{bmatrix}\n",
    "x_1 \\\\ \n",
    "x_2 \\\\\n",
    "\\end{bmatrix}\n",
    "$$\n",
    "\n",
    "Constraints: \n",
    "$$\n",
    "\\begin{bmatrix}\n",
    "1 & 1 \\\\\n",
    "100 & 300 \\\\\n",
    "4 & 1 \\\\\n",
    "\\end{bmatrix}\n",
    "\\cdot\n",
    "\\begin{bmatrix}\n",
    "x_1 \\\\ \n",
    "x_2 \\\\\n",
    "\\end{bmatrix}\n",
    "\\leq \n",
    "\\begin{bmatrix}\n",
    "100 \\\\\n",
    "27000 \\\\\n",
    "280 \n",
    "\\end{bmatrix}\n",
    "$$\n",
    "\n"
   ]
  },
  {
   "cell_type": "markdown",
   "id": "c9d83dc0",
   "metadata": {},
   "source": [
    "Use `linprog` function:"
   ]
  },
  {
   "cell_type": "code",
   "execution_count": 2,
   "id": "30d85eb9",
   "metadata": {},
   "outputs": [
    {
     "data": {
      "text/plain": [
       "        message: Optimization terminated successfully. (HiGHS Status 7: Optimal)\n",
       "        success: True\n",
       "         status: 0\n",
       "            fun: -16000.0\n",
       "              x: [ 6.000e+01  4.000e+01]\n",
       "            nit: 2\n",
       "          lower:  residual: [ 6.000e+01  4.000e+01]\n",
       "                 marginals: [ 0.000e+00  0.000e+00]\n",
       "          upper:  residual: [       inf        inf]\n",
       "                 marginals: [ 0.000e+00  0.000e+00]\n",
       "          eqlin:  residual: []\n",
       "                 marginals: []\n",
       "        ineqlin:  residual: [ 0.000e+00  1.300e+04  0.000e+00]\n",
       "                 marginals: [-6.667e+01 -0.000e+00 -3.333e+01]\n",
       " mip_node_count: 0\n",
       " mip_dual_bound: 0.0\n",
       "        mip_gap: 0.0"
      ]
     },
     "execution_count": 2,
     "metadata": {},
     "output_type": "execute_result"
    }
   ],
   "source": [
    "res = linprog(c = [-200, -100], \n",
    "              A_ub = [[1, 1], [100, 200], [4, 1]],\n",
    "              b_ub = [100, 27000, 280],\n",
    "              bounds = [(0, None), (0, None)], \n",
    "             )\n",
    "res"
   ]
  },
  {
   "cell_type": "markdown",
   "id": "ca0aecd1",
   "metadata": {},
   "source": [
    "Return values:\n",
    "    \n",
    "* `x`: array with coordinates that give the minimum of the objective function\n",
    "* `fun`: minimal value of the objective function\n",
    "* `slack`: values of slack variables (automatically created)\n",
    "* `success`: `True` is an optimal solution has been found\n",
    "* `status`: it is `0` if everything went fine, otherwise a code indicating what went wrong\n",
    "* `nit`: number of iterations performed"
   ]
  },
  {
   "cell_type": "markdown",
   "id": "0203d6cf",
   "metadata": {},
   "source": [
    "These values can be accessed individually:"
   ]
  },
  {
   "cell_type": "code",
   "execution_count": 3,
   "id": "0b51d667",
   "metadata": {},
   "outputs": [
    {
     "data": {
      "text/plain": [
       "array([60., 40.])"
      ]
     },
     "execution_count": 3,
     "metadata": {},
     "output_type": "execute_result"
    }
   ],
   "source": [
    "res.x"
   ]
  },
  {
   "cell_type": "code",
   "execution_count": 4,
   "id": "f07f1bae",
   "metadata": {},
   "outputs": [
    {
     "data": {
      "text/plain": [
       "array([    0., 13000.,     0.])"
      ]
     },
     "execution_count": 4,
     "metadata": {},
     "output_type": "execute_result"
    }
   ],
   "source": [
    "res.slack"
   ]
  },
  {
   "cell_type": "code",
   "execution_count": 5,
   "id": "aaad1e15",
   "metadata": {},
   "outputs": [
    {
     "data": {
      "text/plain": [
       "-16000.0"
      ]
     },
     "execution_count": 5,
     "metadata": {},
     "output_type": "execute_result"
    }
   ],
   "source": [
    "res.fun"
   ]
  },
  {
   "cell_type": "code",
   "execution_count": 6,
   "id": "a4a60b84",
   "metadata": {},
   "outputs": [
    {
     "data": {
      "text/plain": [
       "0"
      ]
     },
     "execution_count": 6,
     "metadata": {},
     "output_type": "execute_result"
    }
   ],
   "source": [
    "res.status"
   ]
  },
  {
   "cell_type": "markdown",
   "id": "47c8716f",
   "metadata": {},
   "source": [
    "## Example 2"
   ]
  },
  {
   "cell_type": "markdown",
   "id": "b2ec929e",
   "metadata": {},
   "source": [
    "Here is an example of an unbounded linear program (there is no minimum):\n",
    "\n",
    "We want to minimize \n",
    "\n",
    "$$f(x_1, x_2) = -x_1$$\n",
    "\n",
    "Subject to:\n",
    "\n",
    "\\begin{align}\n",
    "x_1 - \\frac{2}{3}x_2 & \\leq 2\\\\\n",
    "- x_1 - x_2 & \\leq -1 \\\\\n",
    "x_1 & \\geq 0\\\\\n",
    "x_2 & \\geq 0\n",
    "\\end{align}"
   ]
  },
  {
   "cell_type": "code",
   "execution_count": 7,
   "id": "3c992193",
   "metadata": {},
   "outputs": [
    {
     "data": {
      "text/plain": [
       "       message: The problem is unbounded. (HiGHS Status 10: model_status is Unbounded; primal_status is At upper bound)\n",
       "       success: False\n",
       "        status: 3\n",
       "           fun: None\n",
       "             x: None\n",
       "           nit: 2\n",
       "         lower:  residual: None\n",
       "                marginals: None\n",
       "         upper:  residual: None\n",
       "                marginals: None\n",
       "         eqlin:  residual: None\n",
       "                marginals: None\n",
       "       ineqlin:  residual: None\n",
       "                marginals: None"
      ]
     },
     "execution_count": 7,
     "metadata": {},
     "output_type": "execute_result"
    }
   ],
   "source": [
    "res = linprog(c = [-1, 0], \n",
    "              A_ub = [[1, -2/3], [-1, -1]],\n",
    "              b_ub = [2, -1],\n",
    "              bounds = [(0, None), (0, None)], \n",
    "             )\n",
    "res"
   ]
  },
  {
   "cell_type": "markdown",
   "id": "21d4abdc",
   "metadata": {},
   "source": [
    "## Efficiency of the simplex method\n",
    "\n",
    "Theoretically, it would be possible to solve any linear program without using the simplex method, as follows: \n",
    "\n",
    "* compute all basic feasible solutions\n",
    "* compute the value of the objective function for all these basic feasible solutions\n",
    "* pick the basic feasible solution with the largest value.\n",
    "\n",
    "The problem is, that for larger linear programs the number of all feasible solutions is too big to compute in practice. The advantage of the simplex method is that it goes through a sequence consisting of only some basic feasible solutions. Most basic feasible solutions are never computed by the simplex method, since this method never goes to a basic feasible solution that gives a lower value of the objective function that the one that has been already found. This reduces the number of computatons by a lot. \n",
    "\n",
    "For example, the code below randomly creates a linear programming problem with 100 variables and 100 inequality constraints. Such problem can have up to $10^{59}$ basic feasible solutions. This means that a computer that could calculate 1,000,000,000 such solutions per second, would need about $10^{43}$ years to check all of them. The code prints the number of pivot steps used in the simplex method computations, and the time taken to compete these computatioms. "
   ]
  },
  {
   "cell_type": "code",
   "execution_count": 8,
   "id": "f565c886",
   "metadata": {},
   "outputs": [
    {
     "name": "stdout",
     "output_type": "stream",
     "text": [
      "Optimization terminated successfully. (HiGHS Status 7: Optimal)\n",
      "Number of pivot steps: 19\n",
      "Computed in 0.01 seconds\n"
     ]
    }
   ],
   "source": [
    "import numpy as np\n",
    "from time import time\n",
    "\n",
    "nconstr = 100\n",
    "nvar = 100\n",
    "rng = np.random.default_rng()\n",
    "st = time()\n",
    "res = linprog(c = rng.uniform(-10, 5, nvar), \n",
    "              A_ub = rng.uniform(0, 10, (nconstr, nvar)),\n",
    "              b_ub = rng.uniform(0, 10, nconstr)\n",
    "             )\n",
    "et = time()\n",
    "print(res.message)\n",
    "print(f\"Number of pivot steps: {res.nit}\")\n",
    "print(f\"Computed in {et - st:.2f} seconds\")\n"
   ]
  }
 ],
 "metadata": {
  "kernelspec": {
   "display_name": "Python 3 (ipykernel)",
   "language": "python",
   "name": "python3"
  },
  "language_info": {
   "codemirror_mode": {
    "name": "ipython",
    "version": 3
   },
   "file_extension": ".py",
   "mimetype": "text/x-python",
   "name": "python",
   "nbconvert_exporter": "python",
   "pygments_lexer": "ipython3",
   "version": "3.11.6"
  }
 },
 "nbformat": 4,
 "nbformat_minor": 5
}
