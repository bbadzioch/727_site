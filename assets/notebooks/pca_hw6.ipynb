{
 "cells": [
  {
   "cell_type": "markdown",
   "id": "79805625",
   "metadata": {},
   "source": [
    "# PCA computations"
   ]
  },
  {
   "cell_type": "markdown",
   "id": "c1333002",
   "metadata": {},
   "source": [
    "The goal of this notebook is to demonstrate some Python tools that can be useful in PCA computations."
   ]
  },
  {
   "cell_type": "markdown",
   "id": "bd1fc421",
   "metadata": {},
   "source": [
    "## Matrix multiplication"
   ]
  },
  {
   "cell_type": "code",
   "execution_count": 1,
   "id": "fee4a8d6",
   "metadata": {},
   "outputs": [],
   "source": [
    "import numpy as np"
   ]
  },
  {
   "cell_type": "markdown",
   "id": "1bfe98e3",
   "metadata": {},
   "source": [
    "Define a couple of matrices using `numpy`:"
   ]
  },
  {
   "cell_type": "code",
   "execution_count": 2,
   "id": "f15b6621",
   "metadata": {},
   "outputs": [],
   "source": [
    "A = np.array([[1, 2, 3],\n",
    "              [4, 3, 6],\n",
    "              [7, 8, 9]])\n",
    "\n",
    "B = np.array([[0, 1, 3],\n",
    "              [2, 5, 2],\n",
    "              [0, 0, 1]])"
   ]
  },
  {
   "cell_type": "markdown",
   "id": "f25970ee",
   "metadata": {},
   "source": [
    "Multiplication of a matrix by a scalar:"
   ]
  },
  {
   "cell_type": "code",
   "execution_count": 3,
   "id": "38765b35",
   "metadata": {},
   "outputs": [
    {
     "data": {
      "text/plain": [
       "array([[0.5, 1. , 1.5],\n",
       "       [2. , 1.5, 3. ],\n",
       "       [3.5, 4. , 4.5]])"
      ]
     },
     "execution_count": 3,
     "metadata": {},
     "output_type": "execute_result"
    }
   ],
   "source": [
    "(1/2) * A "
   ]
  },
  {
   "cell_type": "markdown",
   "id": "96737880",
   "metadata": {},
   "source": [
    "Multiplication of a matrix by a vector:"
   ]
  },
  {
   "cell_type": "code",
   "execution_count": 4,
   "id": "1461c00c",
   "metadata": {},
   "outputs": [
    {
     "data": {
      "text/plain": [
       "array([14, 28, 50])"
      ]
     },
     "execution_count": 4,
     "metadata": {},
     "output_type": "execute_result"
    }
   ],
   "source": [
    "v = np.array([1, 2, 3])\n",
    "A @ v"
   ]
  },
  {
   "cell_type": "markdown",
   "id": "72596a52",
   "metadata": {},
   "source": [
    "Multiplication of a matrix by a matrix:"
   ]
  },
  {
   "cell_type": "code",
   "execution_count": 5,
   "id": "0e2da086",
   "metadata": {},
   "outputs": [
    {
     "data": {
      "text/plain": [
       "array([[ 4, 11, 10],\n",
       "       [ 6, 19, 24],\n",
       "       [16, 47, 46]])"
      ]
     },
     "execution_count": 5,
     "metadata": {},
     "output_type": "execute_result"
    }
   ],
   "source": [
    "A @ B"
   ]
  },
  {
   "cell_type": "markdown",
   "id": "a4fe472c",
   "metadata": {},
   "source": [
    "## Matrix transpose"
   ]
  },
  {
   "cell_type": "code",
   "execution_count": 6,
   "id": "7315b0ab",
   "metadata": {},
   "outputs": [
    {
     "data": {
      "text/plain": [
       "array([[1, 4, 7],\n",
       "       [2, 3, 8],\n",
       "       [3, 6, 9]])"
      ]
     },
     "execution_count": 6,
     "metadata": {},
     "output_type": "execute_result"
    }
   ],
   "source": [
    "A.T"
   ]
  },
  {
   "cell_type": "markdown",
   "id": "dbec63b9",
   "metadata": {},
   "source": [
    "## Trace of a matrix"
   ]
  },
  {
   "cell_type": "code",
   "execution_count": 7,
   "id": "81b225b8",
   "metadata": {},
   "outputs": [
    {
     "data": {
      "text/plain": [
       "13"
      ]
     },
     "execution_count": 7,
     "metadata": {},
     "output_type": "execute_result"
    }
   ],
   "source": [
    "np.trace(A)"
   ]
  },
  {
   "cell_type": "markdown",
   "id": "54bd215f",
   "metadata": {},
   "source": [
    "## Computing eigenvalues and eigenvectors"
   ]
  },
  {
   "cell_type": "markdown",
   "id": "adef1cb6",
   "metadata": {},
   "source": [
    "Define a sample matrix:"
   ]
  },
  {
   "cell_type": "code",
   "execution_count": 8,
   "id": "d85ab04a",
   "metadata": {},
   "outputs": [],
   "source": [
    "C = np.array([[8, 2, 5, 8],\n",
    "              [2, 9, 8, 5],\n",
    "              [5, 8, 8, 9],\n",
    "              [8, 5, 9, 8]])"
   ]
  },
  {
   "cell_type": "markdown",
   "id": "02ba626f",
   "metadata": {},
   "source": [
    "The function `np.linalg.eig` returns a tuple giving eigenvalues and eigenvectors of a matrix:"
   ]
  },
  {
   "cell_type": "code",
   "execution_count": 9,
   "id": "7c12012d",
   "metadata": {},
   "outputs": [],
   "source": [
    "eigenvals, eigenvects = np.linalg.eig(C)"
   ]
  },
  {
   "cell_type": "markdown",
   "id": "7928687d",
   "metadata": {},
   "source": [
    "Eigenvalues of the matrix `C`:"
   ]
  },
  {
   "cell_type": "code",
   "execution_count": 10,
   "id": "93e31c5d",
   "metadata": {},
   "outputs": [
    {
     "name": "stdout",
     "output_type": "stream",
     "text": [
      "[27.15475075  7.567203    0.33785338 -2.05980714]\n"
     ]
    }
   ],
   "source": [
    "print(eigenvals)"
   ]
  },
  {
   "cell_type": "markdown",
   "id": "54cd7dd1",
   "metadata": {},
   "source": [
    "`eigenvects` is as matrix of eigenvectors of `C` with each column giving one eigenvector:"
   ]
  },
  {
   "cell_type": "code",
   "execution_count": 11,
   "id": "f570f5e2",
   "metadata": {},
   "outputs": [
    {
     "name": "stdout",
     "output_type": "stream",
     "text": [
      "[[ 0.42453415  0.64417668  0.5774985   0.26702554]\n",
      " [ 0.44593734 -0.68865353  0.53436729 -0.2033416 ]\n",
      " [ 0.55832431 -0.202712   -0.48210397  0.64401676]\n",
      " [ 0.55604371  0.26400866 -0.38538662 -0.68745325]]\n"
     ]
    }
   ],
   "source": [
    "print(eigenvects)"
   ]
  },
  {
   "cell_type": "markdown",
   "id": "207d3299",
   "metadata": {},
   "source": [
    "The first column of is an eigenvector corresponding to the first eigenvalue, the seconds columns is an eigenvector corresponding to the second eigenvalue etc. To verify, lets multiply the first column of `eigenvects` by the matrix `C`:"
   ]
  },
  {
   "cell_type": "code",
   "execution_count": 12,
   "id": "231cd2d4",
   "metadata": {},
   "outputs": [
    {
     "data": {
      "text/plain": [
       "array([11.52811913, 12.10931739, 15.16115735, 15.09922838])"
      ]
     },
     "execution_count": 12,
     "metadata": {},
     "output_type": "execute_result"
    }
   ],
   "source": [
    "C @ eigenvects[:, 0]"
   ]
  },
  {
   "cell_type": "markdown",
   "id": "4e855178",
   "metadata": {},
   "source": [
    "Notice the result is the same as multiplying this columns by the first eigenvalue: "
   ]
  },
  {
   "cell_type": "code",
   "execution_count": 13,
   "id": "1a26fc93",
   "metadata": {},
   "outputs": [
    {
     "data": {
      "text/plain": [
       "array([11.52811913, 12.10931739, 15.16115735, 15.09922838])"
      ]
     },
     "execution_count": 13,
     "metadata": {},
     "output_type": "execute_result"
    }
   ],
   "source": [
    "eigenvals[0]*eigenvects[:, 0]"
   ]
  },
  {
   "cell_type": "markdown",
   "id": "c9c43050",
   "metadata": {},
   "source": [
    "**Note** All eigenvectors returned by `np.linalg.eig` are vectors of length 1. "
   ]
  }
 ],
 "metadata": {
  "kernelspec": {
   "display_name": "Python 3 (ipykernel)",
   "language": "python",
   "name": "python3"
  },
  "language_info": {
   "codemirror_mode": {
    "name": "ipython",
    "version": 3
   },
   "file_extension": ".py",
   "mimetype": "text/x-python",
   "name": "python",
   "nbconvert_exporter": "python",
   "pygments_lexer": "ipython3",
   "version": "3.9.13"
  }
 },
 "nbformat": 4,
 "nbformat_minor": 5
}
