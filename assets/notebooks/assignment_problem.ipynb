{
 "cells": [
  {
   "cell_type": "markdown",
   "id": "f8be4ce1",
   "metadata": {},
   "source": [
    "# Integer programming: the assignment problem"
   ]
  },
  {
   "cell_type": "code",
   "execution_count": 93,
   "id": "58f541a8",
   "metadata": {},
   "outputs": [],
   "source": [
    "import warnings\n",
    "warnings.simplefilter(action='ignore', category=FutureWarning)\n",
    "\n",
    "from itertools import product\n",
    "import networkx as nx\n",
    "from networkx.algorithms import bipartite\n",
    "import matplotlib.pyplot as plt\n",
    "import pandas as pd\n",
    "import numpy as np\n",
    "import scipy"
   ]
  },
  {
   "cell_type": "markdown",
   "id": "577843e3",
   "metadata": {},
   "source": [
    "The functions below creates a networkx graph from an matrix with an assignment problem data \n",
    "and plots the graph. "
   ]
  },
  {
   "cell_type": "code",
   "execution_count": 94,
   "id": "81fa1379",
   "metadata": {},
   "outputs": [],
   "source": [
    "def graph_from_scores(scores):\n",
    "    \"\"\"\n",
    "    Given an array with scores of the assignment problem \n",
    "    returns the corresponding weighted networkx graph. \n",
    "    Column nodes are labeled C1, C2, etc., row nodes P1, P2, etc.   \n",
    "\n",
    "    scores:\n",
    "        A 2-dimensional array with the assignment problem data.\n",
    "\n",
    "    Returns: \n",
    "        A networkx weighted graph object.\n",
    "    \"\"\"\n",
    "\n",
    "    df = pd.DataFrame(scores,\n",
    "                      index=[f\"P{i}\" for i in range(1, scores.shape[0] + 1)],\n",
    "                      columns=[f\"C{i}\" for i in range(1, scores.shape[1] + 1)])\n",
    "    B = nx.Graph()  # Add nodes with the node attribute \"bipartite\"\n",
    "    B.add_nodes_from([f\"C{i}\" for i in range(1, scores.shape[1] + 1)], bipartite=0)\n",
    "    B.add_nodes_from([f\"P{i}\" for i in range(1, scores.shape[0] + 1)], bipartite=1)\n",
    "    for p, c in product(df.index, df.columns):\n",
    "        if not np.isnan(w := df.at[p, c]):\n",
    "            B.add_edge(p, c, weight=w)\n",
    "    return df, B\n",
    "\n",
    "\n",
    "def plot_assignment_graph(B):\n",
    "    \"\"\"\n",
    "    Plot the graph for an assignment problem. \n",
    "\n",
    "    B:\n",
    "        A networkx object representing a weighted bipartite graph.\n",
    "    \n",
    "    Returns: \n",
    "        None. \n",
    "    \"\"\"\n",
    "\n",
    "    plt.figure(figsize=(10, 5))\n",
    "    node_color = ['lightcoral' if n.startswith(\"C\") else 'lightsteelblue' for n in B.nodes]\n",
    "    nx.draw_networkx(\n",
    "        B,\n",
    "        pos = nx.drawing.layout.bipartite_layout(B, nodes = [n for n in B.nodes if n.startswith(\"C\")]), \n",
    "        width = 3,\n",
    "        node_color=node_color,\n",
    "        node_size=1000\n",
    "    )\n",
    "    plt.show()\n"
   ]
  },
  {
   "cell_type": "markdown",
   "id": "26586829",
   "metadata": {},
   "source": [
    "Create and plot the bipartite graph:"
   ]
  },
  {
   "cell_type": "code",
   "execution_count": 95,
   "id": "aefaf5c7",
   "metadata": {},
   "outputs": [
    {
     "data": {
      "text/html": [
       "<div>\n",
       "<style scoped>\n",
       "    .dataframe tbody tr th:only-of-type {\n",
       "        vertical-align: middle;\n",
       "    }\n",
       "\n",
       "    .dataframe tbody tr th {\n",
       "        vertical-align: top;\n",
       "    }\n",
       "\n",
       "    .dataframe thead th {\n",
       "        text-align: right;\n",
       "    }\n",
       "</style>\n",
       "<table border=\"1\" class=\"dataframe\">\n",
       "  <thead>\n",
       "    <tr style=\"text-align: right;\">\n",
       "      <th></th>\n",
       "      <th>C1</th>\n",
       "      <th>C2</th>\n",
       "      <th>C3</th>\n",
       "      <th>C4</th>\n",
       "      <th>C5</th>\n",
       "      <th>C6</th>\n",
       "      <th>C7</th>\n",
       "    </tr>\n",
       "  </thead>\n",
       "  <tbody>\n",
       "    <tr>\n",
       "      <th>P1</th>\n",
       "      <td>70.0</td>\n",
       "      <td>90.0</td>\n",
       "      <td></td>\n",
       "      <td>75.0</td>\n",
       "      <td>55.0</td>\n",
       "      <td></td>\n",
       "      <td>60.0</td>\n",
       "    </tr>\n",
       "    <tr>\n",
       "      <th>P2</th>\n",
       "      <td>40.0</td>\n",
       "      <td>95.0</td>\n",
       "      <td>85.0</td>\n",
       "      <td></td>\n",
       "      <td></td>\n",
       "      <td>80.0</td>\n",
       "      <td></td>\n",
       "    </tr>\n",
       "    <tr>\n",
       "      <th>P3</th>\n",
       "      <td>50.0</td>\n",
       "      <td></td>\n",
       "      <td>75.0</td>\n",
       "      <td></td>\n",
       "      <td>70.0</td>\n",
       "      <td></td>\n",
       "      <td>65.0</td>\n",
       "    </tr>\n",
       "    <tr>\n",
       "      <th>P4</th>\n",
       "      <td></td>\n",
       "      <td></td>\n",
       "      <td>60.0</td>\n",
       "      <td>80.0</td>\n",
       "      <td></td>\n",
       "      <td>35.0</td>\n",
       "      <td></td>\n",
       "    </tr>\n",
       "    <tr>\n",
       "      <th>P5</th>\n",
       "      <td></td>\n",
       "      <td>75.0</td>\n",
       "      <td></td>\n",
       "      <td>70.0</td>\n",
       "      <td></td>\n",
       "      <td>35.0</td>\n",
       "      <td>20.0</td>\n",
       "    </tr>\n",
       "  </tbody>\n",
       "</table>\n",
       "</div>"
      ],
      "text/plain": [
       "      C1    C2    C3    C4    C5    C6    C7\n",
       "P1  70.0  90.0        75.0  55.0        60.0\n",
       "P2  40.0  95.0  85.0              80.0      \n",
       "P3  50.0        75.0        70.0        65.0\n",
       "P4              60.0  80.0        35.0      \n",
       "P5        75.0        70.0        35.0  20.0"
      ]
     },
     "metadata": {},
     "output_type": "display_data"
    },
    {
     "data": {
      "image/png": "[encoded data removed]",
      "text/plain": [
       "<Figure size 1000x500 with 1 Axes>"
      ]
     },
     "metadata": {},
     "output_type": "display_data"
    }
   ],
   "source": [
    "scores = np.array(\n",
    "    [[70, 90, np.nan, 75, 55, np.nan, 60],\n",
    "     [40, 95, 85, np.nan, np.nan, 80, np.nan],\n",
    "     [50, np.nan, 75, np.nan, 70, np.nan, 65],\n",
    "     [np.nan, np.nan, 60, 80, np.nan, 35, np.nan],\n",
    "     [np.nan, 75, np.nan, 70, np.nan, 35, 20]])\n",
    "\n",
    "df, B = graph_from_scores(scores)\n",
    "df = df.fillna(\"\")\n",
    "display(df)\n",
    "plot_assignment_graph(B)\n"
   ]
  },
  {
   "cell_type": "markdown",
   "id": "9cb99153",
   "metadata": {},
   "source": [
    "### Solving the linear program for the assignment problem"
   ]
  },
  {
   "cell_type": "markdown",
   "id": "607af7f9",
   "metadata": {},
   "source": [
    "The next function solves an assignment problem, using linear programming:"
   ]
  },
  {
   "cell_type": "code",
   "execution_count": 96,
   "id": "07841496",
   "metadata": {},
   "outputs": [],
   "source": [
    "def lp_assignment(B):\n",
    "    \"\"\"\n",
    "    Sets up and solves the assignment problem for\n",
    "    a given weighted bipartite graph.\n",
    "    \n",
    "    B:\n",
    "        A networkx object representing a weighted bipartite graph.\n",
    "    \n",
    "    Returns: \n",
    "       The data with the linear program solution returned by \n",
    "       scipy.optimize.linprog. \n",
    "    \n",
    "    \"\"\"\n",
    "    weighted_incidence = nx.incidence_matrix(B, weight=\"weight\").todense()\n",
    "    edge_weights = weighted_incidence.max(axis=0)\n",
    "    incidence = (weighted_incidence > 0).astype(int)\n",
    "    num_slacks = len([n for n in B.nodes if n.startswith(\"C\")])\n",
    "\n",
    "    c = -edge_weights\n",
    "\n",
    "    A_ub = incidence[:num_slacks]\n",
    "    b_ub = np.ones(num_slacks)\n",
    "    A_eq = incidence[num_slacks:]\n",
    "    b_eq = np.ones(len(B.nodes) - num_slacks)\n",
    "\n",
    "    sp = scipy.optimize.linprog(c=c,\n",
    "                                A_ub=A_ub,\n",
    "                                b_ub=b_ub,\n",
    "                                A_eq=A_eq,\n",
    "                                b_eq=b_eq)\n",
    "    return sp"
   ]
  },
  {
   "cell_type": "code",
   "execution_count": 97,
   "id": "20083e26",
   "metadata": {},
   "outputs": [
    {
     "data": {
      "text/plain": [
       "        message: Optimization terminated successfully. (HiGHS Status 7: Optimal)\n",
       "        success: True\n",
       "         status: 0\n",
       "            fun: -380.0\n",
       "              x: [ 1.000e+00  0.000e+00 ...  0.000e+00  0.000e+00]\n",
       "            nit: 9\n",
       "          lower:  residual: [ 1.000e+00  0.000e+00 ...  0.000e+00\n",
       "                              0.000e+00]\n",
       "                 marginals: [ 0.000e+00  4.000e+01 ...  5.000e+00\n",
       "                              3.500e+01]\n",
       "          upper:  residual: [       inf        inf ...        inf\n",
       "                                    inf]\n",
       "                 marginals: [ 0.000e+00  0.000e+00 ...  0.000e+00\n",
       "                              0.000e+00]\n",
       "          eqlin:  residual: [ 0.000e+00  0.000e+00  0.000e+00  0.000e+00\n",
       "                              0.000e+00]\n",
       "                 marginals: [-7.000e+01 -8.000e+01 -7.000e+01 -6.500e+01\n",
       "                             -5.500e+01]\n",
       "        ineqlin:  residual: [ 0.000e+00  0.000e+00  0.000e+00  0.000e+00\n",
       "                              1.000e+00  0.000e+00  1.000e+00]\n",
       "                 marginals: [-0.000e+00 -2.000e+01 -5.000e+00 -1.500e+01\n",
       "                             -0.000e+00 -0.000e+00 -0.000e+00]\n",
       " mip_node_count: 0\n",
       " mip_dual_bound: 0.0\n",
       "        mip_gap: 0.0"
      ]
     },
     "execution_count": 97,
     "metadata": {},
     "output_type": "execute_result"
    }
   ],
   "source": [
    "sol = lp_assignment(B)\n",
    "sol"
   ]
  },
  {
   "cell_type": "markdown",
   "id": "719631a3",
   "metadata": {},
   "source": [
    "Note that the solution consists of integers only:"
   ]
  },
  {
   "cell_type": "code",
   "execution_count": 98,
   "id": "1aa47c45",
   "metadata": {},
   "outputs": [
    {
     "data": {
      "text/plain": [
       "array([ 1.,  0.,  0., -0.,  0.,  1., -0.,  1.,  0.,  0.,  1., -0.,  0.,\n",
       "        0.,  1.,  0.,  0.,  0.,  0.,  0.])"
      ]
     },
     "execution_count": 98,
     "metadata": {},
     "output_type": "execute_result"
    }
   ],
   "source": [
    "sol.x"
   ]
  },
  {
   "cell_type": "markdown",
   "id": "579f7310",
   "metadata": {},
   "source": [
    "To get a readable solution of the assignment problem, it is now enough to print information about the edges of the graph for which the linear program solution is equal to 1:"
   ]
  },
  {
   "cell_type": "code",
   "execution_count": 85,
   "id": "b480c652",
   "metadata": {},
   "outputs": [
    {
     "data": {
      "text/plain": [
       "[('C1', 'P1', {'weight': 70.0}),\n",
       " ('C2', 'P5', {'weight': 75.0}),\n",
       " ('C3', 'P3', {'weight': 75.0}),\n",
       " ('C4', 'P4', {'weight': 80.0}),\n",
       " ('C6', 'P2', {'weight': 80.0})]"
      ]
     },
     "execution_count": 85,
     "metadata": {},
     "output_type": "execute_result"
    }
   ],
   "source": [
    "edges = list(B.edges(data=True))\n",
    "assignment = [edges[i] for i in np.nonzero(sol.x)[0]]\n",
    "assignment"
   ]
  },
  {
   "cell_type": "markdown",
   "id": "f8bd236a",
   "metadata": {},
   "source": [
    "The sum of weights of the optimal assignment:"
   ]
  },
  {
   "cell_type": "code",
   "execution_count": 86,
   "id": "e7892150",
   "metadata": {},
   "outputs": [
    {
     "data": {
      "text/plain": [
       "380.0"
      ]
     },
     "execution_count": 86,
     "metadata": {},
     "output_type": "execute_result"
    }
   ],
   "source": [
    "sum([w[\"weight\"] for c, p, w in assignment])"
   ]
  },
  {
   "cell_type": "markdown",
   "id": "c0038970",
   "metadata": {},
   "source": [
    "# Assignment with random graphs"
   ]
  },
  {
   "cell_type": "markdown",
   "id": "1ccf97a1",
   "metadata": {},
   "source": [
    "Create a random score matrix and solve the assignment problem for this matrix:"
   ]
  },
  {
   "cell_type": "code",
   "execution_count": 103,
   "id": "1ffb2141",
   "metadata": {},
   "outputs": [
    {
     "data": {
      "text/html": [
       "<div>\n",
       "<style scoped>\n",
       "    .dataframe tbody tr th:only-of-type {\n",
       "        vertical-align: middle;\n",
       "    }\n",
       "\n",
       "    .dataframe tbody tr th {\n",
       "        vertical-align: top;\n",
       "    }\n",
       "\n",
       "    .dataframe thead th {\n",
       "        text-align: right;\n",
       "    }\n",
       "</style>\n",
       "<table border=\"1\" class=\"dataframe\">\n",
       "  <thead>\n",
       "    <tr style=\"text-align: right;\">\n",
       "      <th></th>\n",
       "      <th>C1</th>\n",
       "      <th>C2</th>\n",
       "      <th>C3</th>\n",
       "      <th>C4</th>\n",
       "      <th>C5</th>\n",
       "      <th>C6</th>\n",
       "      <th>C7</th>\n",
       "      <th>C8</th>\n",
       "      <th>C9</th>\n",
       "      <th>C10</th>\n",
       "      <th>C11</th>\n",
       "      <th>C12</th>\n",
       "      <th>C13</th>\n",
       "      <th>C14</th>\n",
       "      <th>C15</th>\n",
       "    </tr>\n",
       "  </thead>\n",
       "  <tbody>\n",
       "    <tr>\n",
       "      <th>P1</th>\n",
       "      <td></td>\n",
       "      <td>57.0</td>\n",
       "      <td>58.0</td>\n",
       "      <td>4.0</td>\n",
       "      <td></td>\n",
       "      <td></td>\n",
       "      <td>89.0</td>\n",
       "      <td>81.0</td>\n",
       "      <td>57.0</td>\n",
       "      <td>18.0</td>\n",
       "      <td></td>\n",
       "      <td>31.0</td>\n",
       "      <td>13.0</td>\n",
       "      <td>67.0</td>\n",
       "      <td></td>\n",
       "    </tr>\n",
       "    <tr>\n",
       "      <th>P2</th>\n",
       "      <td>59.0</td>\n",
       "      <td>89.0</td>\n",
       "      <td>2.0</td>\n",
       "      <td></td>\n",
       "      <td>81.0</td>\n",
       "      <td></td>\n",
       "      <td></td>\n",
       "      <td>94.0</td>\n",
       "      <td></td>\n",
       "      <td>94.0</td>\n",
       "      <td></td>\n",
       "      <td>97.0</td>\n",
       "      <td></td>\n",
       "      <td>55.0</td>\n",
       "      <td>81.0</td>\n",
       "    </tr>\n",
       "    <tr>\n",
       "      <th>P3</th>\n",
       "      <td></td>\n",
       "      <td>2.0</td>\n",
       "      <td>2.0</td>\n",
       "      <td>1.0</td>\n",
       "      <td>2.0</td>\n",
       "      <td></td>\n",
       "      <td>38.0</td>\n",
       "      <td>44.0</td>\n",
       "      <td>54.0</td>\n",
       "      <td>59.0</td>\n",
       "      <td>35.0</td>\n",
       "      <td>23.0</td>\n",
       "      <td></td>\n",
       "      <td>68.0</td>\n",
       "      <td>90.0</td>\n",
       "    </tr>\n",
       "    <tr>\n",
       "      <th>P4</th>\n",
       "      <td></td>\n",
       "      <td></td>\n",
       "      <td></td>\n",
       "      <td></td>\n",
       "      <td>5.0</td>\n",
       "      <td>54.0</td>\n",
       "      <td>83.0</td>\n",
       "      <td>65.0</td>\n",
       "      <td>31.0</td>\n",
       "      <td></td>\n",
       "      <td>46.0</td>\n",
       "      <td>51.0</td>\n",
       "      <td></td>\n",
       "      <td>4.0</td>\n",
       "      <td>96.0</td>\n",
       "    </tr>\n",
       "    <tr>\n",
       "      <th>P5</th>\n",
       "      <td>20.0</td>\n",
       "      <td>93.0</td>\n",
       "      <td>45.0</td>\n",
       "      <td>47.0</td>\n",
       "      <td></td>\n",
       "      <td>5.0</td>\n",
       "      <td>53.0</td>\n",
       "      <td>28.0</td>\n",
       "      <td>30.0</td>\n",
       "      <td>99.0</td>\n",
       "      <td>6.0</td>\n",
       "      <td>45.0</td>\n",
       "      <td>22.0</td>\n",
       "      <td>53.0</td>\n",
       "      <td></td>\n",
       "    </tr>\n",
       "    <tr>\n",
       "      <th>P6</th>\n",
       "      <td></td>\n",
       "      <td>92.0</td>\n",
       "      <td>99.0</td>\n",
       "      <td></td>\n",
       "      <td>49.0</td>\n",
       "      <td>54.0</td>\n",
       "      <td>99.0</td>\n",
       "      <td>34.0</td>\n",
       "      <td>32.0</td>\n",
       "      <td></td>\n",
       "      <td></td>\n",
       "      <td>36.0</td>\n",
       "      <td>61.0</td>\n",
       "      <td>4.0</td>\n",
       "      <td></td>\n",
       "    </tr>\n",
       "    <tr>\n",
       "      <th>P7</th>\n",
       "      <td>20.0</td>\n",
       "      <td></td>\n",
       "      <td></td>\n",
       "      <td>41.0</td>\n",
       "      <td></td>\n",
       "      <td></td>\n",
       "      <td>31.0</td>\n",
       "      <td>28.0</td>\n",
       "      <td>44.0</td>\n",
       "      <td>10.0</td>\n",
       "      <td>36.0</td>\n",
       "      <td>57.0</td>\n",
       "      <td>6.0</td>\n",
       "      <td></td>\n",
       "      <td>56.0</td>\n",
       "    </tr>\n",
       "  </tbody>\n",
       "</table>\n",
       "</div>"
      ],
      "text/plain": [
       "      C1    C2    C3    C4    C5    C6    C7    C8    C9   C10   C11   C12  \\\n",
       "P1        57.0  58.0   4.0              89.0  81.0  57.0  18.0        31.0   \n",
       "P2  59.0  89.0   2.0        81.0              94.0        94.0        97.0   \n",
       "P3         2.0   2.0   1.0   2.0        38.0  44.0  54.0  59.0  35.0  23.0   \n",
       "P4                           5.0  54.0  83.0  65.0  31.0        46.0  51.0   \n",
       "P5  20.0  93.0  45.0  47.0         5.0  53.0  28.0  30.0  99.0   6.0  45.0   \n",
       "P6        92.0  99.0        49.0  54.0  99.0  34.0  32.0              36.0   \n",
       "P7  20.0              41.0              31.0  28.0  44.0  10.0  36.0  57.0   \n",
       "\n",
       "     C13   C14   C15  \n",
       "P1  13.0  67.0        \n",
       "P2        55.0  81.0  \n",
       "P3        68.0  90.0  \n",
       "P4         4.0  96.0  \n",
       "P5  22.0  53.0        \n",
       "P6  61.0   4.0        \n",
       "P7   6.0        56.0  "
      ]
     },
     "metadata": {},
     "output_type": "display_data"
    },
    {
     "name": "stdout",
     "output_type": "stream",
     "text": [
      "Linear program solution:\n",
      "[ 0.  0.  0.  0.  0.  0.  0.  0.  0.  0.  0.  0.  1.  0.  0.  0.  0.  0.\n",
      "  0.  0.  0.  0.  0.  0.  1.  0. -0.  0.  0.  0. -0.  1.  0.  0.  0.  0.\n",
      "  0.  0.  0.  0.  0.  0.  0.  0. -0.  0.  1.  0.  0.  0.  0.  0.  0. -0.\n",
      "  0.  0.  0.  0.  1.  0.  0.  0.  0.  0.  0.  1.  0.  0.  0.  0. -0.  1.\n",
      "  0.]\n",
      "\n",
      "Optimal assignment:\n"
     ]
    },
    {
     "data": {
      "text/plain": [
       "[('C3', 'P6', {'weight': 99.0}),\n",
       " ('C7', 'P1', {'weight': 89.0}),\n",
       " ('C8', 'P2', {'weight': 94.0}),\n",
       " ('C10', 'P5', {'weight': 99.0}),\n",
       " ('C12', 'P7', {'weight': 57.0}),\n",
       " ('C14', 'P3', {'weight': 68.0}),\n",
       " ('C15', 'P4', {'weight': 96.0})]"
      ]
     },
     "execution_count": 103,
     "metadata": {},
     "output_type": "execute_result"
    }
   ],
   "source": [
    "rng = np.random.default_rng()\n",
    "cnum = 15\n",
    "pnum = 7\n",
    "edge_prob = 0.7\n",
    "random_scores = rng.integers(0, 100, (pnum, cnum)).astype(float)\n",
    "mask = rng.random((pnum, cnum)) > edge_prob\n",
    "random_scores[mask] = np.nan\n",
    "df, B = graph_from_scores(random_scores)\n",
    "df = df.fillna(\"\")\n",
    "display(df)\n",
    "#plot_assignment_graph(B)\n",
    "sol = lp_assignment(B)\n",
    "print(f\"Linear program solution:\\n{sol.x}\")\n",
    "edges = list(B.edges(data=True))\n",
    "assignment = [edges[i] for i in np.nonzero(sol.x)[0]]\n",
    "print(\"\\nOptimal assignment:\")\n",
    "assignment"
   ]
  }
 ],
 "metadata": {
  "kernelspec": {
   "display_name": "Python 3 (ipykernel)",
   "language": "python",
   "name": "python3"
  },
  "language_info": {
   "codemirror_mode": {
    "name": "ipython",
    "version": 3
   },
   "file_extension": ".py",
   "mimetype": "text/x-python",
   "name": "python",
   "nbconvert_exporter": "python",
   "pygments_lexer": "ipython3",
   "version": "3.11.6"
  },
  "vscode": {
   "interpreter": {
    "hash": "78c8e1b80b1031a1e136770481d214899efde752997b0b94966a80ddc7ada738"
   }
  }
 },
 "nbformat": 4,
 "nbformat_minor": 5
}
