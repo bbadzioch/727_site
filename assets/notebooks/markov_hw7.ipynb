{
 "cells": [
  {
   "cell_type": "markdown",
   "id": "79805625",
   "metadata": {},
   "source": [
    "# Markov chains computations\n",
    "\n",
    "The goal of this notebook is to demonstrate some Python tools that can be useful in Markov chains computations."
   ]
  },
  {
   "cell_type": "code",
   "execution_count": 3,
   "id": "fee4a8d6",
   "metadata": {},
   "outputs": [],
   "source": [
    "import numpy as np"
   ]
  },
  {
   "cell_type": "markdown",
   "id": "6168e920",
   "metadata": {},
   "source": [
    "## Matrix addition/subtraction"
   ]
  },
  {
   "cell_type": "markdown",
   "id": "1bfe98e3",
   "metadata": {},
   "source": [
    "Define a couple of matrices using `numpy`:"
   ]
  },
  {
   "cell_type": "code",
   "execution_count": 4,
   "id": "f15b6621",
   "metadata": {},
   "outputs": [],
   "source": [
    "A = np.array([[1, 2, 3],\n",
    "              [4, 3, 6],\n",
    "              [7, 8, 9]])\n",
    "\n",
    "B = np.array([[0, 1, 3],\n",
    "              [2, 5, 2],\n",
    "              [0, 0, 1]])"
   ]
  },
  {
   "cell_type": "markdown",
   "id": "c0508db9",
   "metadata": {},
   "source": [
    "Addition of matrices:"
   ]
  },
  {
   "cell_type": "code",
   "execution_count": 5,
   "id": "0124ca87",
   "metadata": {},
   "outputs": [
    {
     "data": {
      "text/plain": [
       "array([[ 1,  3,  6],\n",
       "       [ 6,  8,  8],\n",
       "       [ 7,  8, 10]])"
      ]
     },
     "execution_count": 5,
     "metadata": {},
     "output_type": "execute_result"
    }
   ],
   "source": [
    "A + B"
   ]
  },
  {
   "cell_type": "markdown",
   "id": "ebd76692",
   "metadata": {},
   "source": [
    "Subtraction: "
   ]
  },
  {
   "cell_type": "code",
   "execution_count": 7,
   "id": "b2f2c12b",
   "metadata": {},
   "outputs": [
    {
     "data": {
      "text/plain": [
       "array([[ 1,  1,  0],\n",
       "       [ 2, -2,  4],\n",
       "       [ 7,  8,  8]])"
      ]
     },
     "execution_count": 7,
     "metadata": {},
     "output_type": "execute_result"
    }
   ],
   "source": [
    "A - B"
   ]
  },
  {
   "cell_type": "markdown",
   "id": "4a4f1447",
   "metadata": {},
   "source": [
    "## Matrix multiplication"
   ]
  },
  {
   "cell_type": "markdown",
   "id": "f25970ee",
   "metadata": {},
   "source": [
    "Multiplication of a matrix by a scalar:"
   ]
  },
  {
   "cell_type": "code",
   "execution_count": 8,
   "id": "38765b35",
   "metadata": {},
   "outputs": [
    {
     "data": {
      "text/plain": [
       "array([[0.5, 1. , 1.5],\n",
       "       [2. , 1.5, 3. ],\n",
       "       [3.5, 4. , 4.5]])"
      ]
     },
     "execution_count": 8,
     "metadata": {},
     "output_type": "execute_result"
    }
   ],
   "source": [
    "(1/2) * A "
   ]
  },
  {
   "cell_type": "markdown",
   "id": "96737880",
   "metadata": {},
   "source": [
    "Multiplication of a matrix by a vector:"
   ]
  },
  {
   "cell_type": "code",
   "execution_count": 9,
   "id": "1461c00c",
   "metadata": {},
   "outputs": [
    {
     "data": {
      "text/plain": [
       "array([14, 28, 50])"
      ]
     },
     "execution_count": 9,
     "metadata": {},
     "output_type": "execute_result"
    }
   ],
   "source": [
    "v = np.array([1, 2, 3])\n",
    "A @ v"
   ]
  },
  {
   "cell_type": "markdown",
   "id": "72596a52",
   "metadata": {},
   "source": [
    "Multiplication of a matrix by a matrix:"
   ]
  },
  {
   "cell_type": "code",
   "execution_count": 10,
   "id": "0e2da086",
   "metadata": {},
   "outputs": [
    {
     "data": {
      "text/plain": [
       "array([[ 4, 11, 10],\n",
       "       [ 6, 19, 24],\n",
       "       [16, 47, 46]])"
      ]
     },
     "execution_count": 10,
     "metadata": {},
     "output_type": "execute_result"
    }
   ],
   "source": [
    "A @ B"
   ]
  },
  {
   "cell_type": "markdown",
   "id": "a4fe472c",
   "metadata": {},
   "source": [
    "## Matrix inverse\n",
    "\n",
    "Compute the inverse of the matrix `A`:"
   ]
  },
  {
   "cell_type": "code",
   "execution_count": 11,
   "id": "7315b0ab",
   "metadata": {},
   "outputs": [
    {
     "data": {
      "text/plain": [
       "array([[-0.875     ,  0.25      ,  0.125     ],\n",
       "       [ 0.25      , -0.5       ,  0.25      ],\n",
       "       [ 0.45833333,  0.25      , -0.20833333]])"
      ]
     },
     "execution_count": 11,
     "metadata": {},
     "output_type": "execute_result"
    }
   ],
   "source": [
    "np.linalg.inv(A)"
   ]
  },
  {
   "cell_type": "markdown",
   "id": "f5f21471",
   "metadata": {},
   "source": [
    "**Note.** This function will give an error if used with a non-invertible matrix."
   ]
  },
  {
   "cell_type": "markdown",
   "id": "9cdae1e0",
   "metadata": {},
   "source": [
    "## The identity matrix\n",
    "\n",
    "`np.eye` function gives an easy way of creating the identity matrix of a given size. For example, to get the 4x4 identity matrix we can use the folling: "
   ]
  },
  {
   "cell_type": "code",
   "execution_count": 12,
   "id": "f937808f",
   "metadata": {},
   "outputs": [
    {
     "data": {
      "text/plain": [
       "array([[1., 0., 0., 0.],\n",
       "       [0., 1., 0., 0.],\n",
       "       [0., 0., 1., 0.],\n",
       "       [0., 0., 0., 1.]])"
      ]
     },
     "execution_count": 12,
     "metadata": {},
     "output_type": "execute_result"
    }
   ],
   "source": [
    "np.eye(4)"
   ]
  }
 ],
 "metadata": {
  "kernelspec": {
   "display_name": "Python 3 (ipykernel)",
   "language": "python",
   "name": "python3"
  },
  "language_info": {
   "codemirror_mode": {
    "name": "ipython",
    "version": 3
   },
   "file_extension": ".py",
   "mimetype": "text/x-python",
   "name": "python",
   "nbconvert_exporter": "python",
   "pygments_lexer": "ipython3",
   "version": "3.9.13"
  }
 },
 "nbformat": 4,
 "nbformat_minor": 5
}
