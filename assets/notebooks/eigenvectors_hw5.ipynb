{
 "cells": [
  {
   "attachments": {},
   "cell_type": "markdown",
   "id": "79805625",
   "metadata": {},
   "source": [
    "# Eigenvalues and eigenvectors"
   ]
  },
  {
   "attachments": {},
   "cell_type": "markdown",
   "id": "c1333002",
   "metadata": {},
   "source": [
    "The goal of this notebook is to show how to compute eigenvalues and eigenvectors of a square matrix using numpy."
   ]
  },
  {
   "cell_type": "code",
   "execution_count": 1,
   "id": "7315b0ab",
   "metadata": {},
   "outputs": [],
   "source": [
    "import numpy as np"
   ]
  },
  {
   "attachments": {},
   "cell_type": "markdown",
   "id": "adef1cb6",
   "metadata": {},
   "source": [
    "Here we define a sample matrix:"
   ]
  },
  {
   "cell_type": "code",
   "execution_count": 110,
   "id": "d85ab04a",
   "metadata": {},
   "outputs": [],
   "source": [
    "A = np.array([[8, 2, 5, 8],\n",
    "              [2, 9, 8, 5],\n",
    "              [5, 8, 8, 9],\n",
    "              [8, 5, 9, 8]])"
   ]
  },
  {
   "attachments": {},
   "cell_type": "markdown",
   "id": "02ba626f",
   "metadata": {},
   "source": [
    "The function `np.linalg.eig` returns a tuple giving eigenvalues and eigenvectors of a matrix:"
   ]
  },
  {
   "cell_type": "code",
   "execution_count": 111,
   "id": "7c12012d",
   "metadata": {},
   "outputs": [],
   "source": [
    "eigenvals, eigenvects = np.linalg.eig(A)"
   ]
  },
  {
   "attachments": {},
   "cell_type": "markdown",
   "id": "7928687d",
   "metadata": {},
   "source": [
    "Eigenvalues of the matrix `A`:"
   ]
  },
  {
   "cell_type": "code",
   "execution_count": 112,
   "id": "93e31c5d",
   "metadata": {},
   "outputs": [
    {
     "name": "stdout",
     "output_type": "stream",
     "text": [
      "[27.15475075  7.567203    0.33785338 -2.05980714]\n"
     ]
    }
   ],
   "source": [
    "print(eigenvals)"
   ]
  },
  {
   "attachments": {},
   "cell_type": "markdown",
   "id": "54cd7dd1",
   "metadata": {},
   "source": [
    "`eigenvects` is as matrix of eigenvectors of `A` with each column giving one eigenvector:"
   ]
  },
  {
   "cell_type": "code",
   "execution_count": 114,
   "id": "f570f5e2",
   "metadata": {},
   "outputs": [
    {
     "name": "stdout",
     "output_type": "stream",
     "text": [
      "[[ 0.42453415  0.64417668  0.5774985   0.26702554]\n",
      " [ 0.44593734 -0.68865353  0.53436729 -0.2033416 ]\n",
      " [ 0.55832431 -0.202712   -0.48210397  0.64401676]\n",
      " [ 0.55604371  0.26400866 -0.38538662 -0.68745325]]\n"
     ]
    }
   ],
   "source": [
    "print(eigenvects)"
   ]
  },
  {
   "attachments": {},
   "cell_type": "markdown",
   "id": "207d3299",
   "metadata": {},
   "source": [
    "The first column of is an eigenvector corresponding to the first eigenvalue, the seconds columns is an eigenvector corresponding to the second eigenvalue etc. To verify, lets multiply the first column of `eigenvects` by the matrix A:"
   ]
  },
  {
   "cell_type": "code",
   "execution_count": 115,
   "id": "231cd2d4",
   "metadata": {},
   "outputs": [
    {
     "data": {
      "text/plain": [
       "array([11.52811913, 12.10931739, 15.16115735, 15.09922838])"
      ]
     },
     "execution_count": 115,
     "metadata": {},
     "output_type": "execute_result"
    }
   ],
   "source": [
    "A@eigenvects[:, 0]"
   ]
  },
  {
   "attachments": {},
   "cell_type": "markdown",
   "id": "4e855178",
   "metadata": {},
   "source": [
    "Notice the result is the same as multiplying this columns by the first eigenvalue: "
   ]
  },
  {
   "cell_type": "code",
   "execution_count": 116,
   "id": "1a26fc93",
   "metadata": {},
   "outputs": [
    {
     "data": {
      "text/plain": [
       "array([11.52811913, 12.10931739, 15.16115735, 15.09922838])"
      ]
     },
     "execution_count": 116,
     "metadata": {},
     "output_type": "execute_result"
    }
   ],
   "source": [
    "eigenvals[0]*eigenvects[:, 0]"
   ]
  },
  {
   "attachments": {},
   "cell_type": "markdown",
   "id": "c9c43050",
   "metadata": {},
   "source": [
    "**Note** All eigenvectors returned by `np.linalg.eig` are vectors of length 1. "
   ]
  },
  {
   "attachments": {},
   "cell_type": "markdown",
   "id": "ace18983",
   "metadata": {},
   "source": [
    "## Scientific notation\n",
    "\n",
    "If eigenvalues or eigenvectors computed by `np.linalg.eig` involve small or large numbers, numpy will display them using the scientific notation. For example, \n",
    "here are eigenvales of the matrix `0.0001*A`:"
   ]
  },
  {
   "cell_type": "code",
   "execution_count": 128,
   "id": "d119f73a",
   "metadata": {},
   "outputs": [
    {
     "name": "stdout",
     "output_type": "stream",
     "text": [
      "[ 2.71547508e-03  7.56720300e-04  3.37853384e-05 -2.05980714e-04]\n"
     ]
    }
   ],
   "source": [
    "eigenvals, eigenvects = np.linalg.eig(0.0001*A)\n",
    "print(eigenvals)"
   ]
  },
  {
   "attachments": {},
   "cell_type": "markdown",
   "id": "d48b3a35",
   "metadata": {},
   "source": [
    "The expression `2.71547508e-03` represents the number  $2.71547508\\cdot 10^{-3} = 0.00271547508$. In the same way, `2.71547508e+03` would represent the number  $2.71547508\\cdot 10^{3} = 2715.47508$."
   ]
  }
 ],
 "metadata": {
  "kernelspec": {
   "display_name": "Python 3 (ipykernel)",
   "language": "python",
   "name": "python3"
  },
  "language_info": {
   "codemirror_mode": {
    "name": "ipython",
    "version": 3
   },
   "file_extension": ".py",
   "mimetype": "text/x-python",
   "name": "python",
   "nbconvert_exporter": "python",
   "pygments_lexer": "ipython3",
   "version": "3.9.13"
  }
 },
 "nbformat": 4,
 "nbformat_minor": 5
}
